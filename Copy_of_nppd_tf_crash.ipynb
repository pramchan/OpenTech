{
  "nbformat": 4,
  "nbformat_minor": 0,
  "metadata": {
    "colab": {
      "name": "Copy of nppd-tf-crash.ipynb",
      "provenance": [],
      "collapsed_sections": [],
      "authorship_tag": "ABX9TyOCp2PGIvy1ON2hnARh2OBN",
      "include_colab_link": true
    },
    "kernelspec": {
      "name": "python3",
      "display_name": "Python 3"
    },
    "language_info": {
      "name": "python"
    }
  },
  "cells": [
    {
      "cell_type": "markdown",
      "metadata": {
        "id": "view-in-github",
        "colab_type": "text"
      },
      "source": [
        "<a href=\"https://colab.research.google.com/github/pramchan/OpenTech/blob/master/Copy_of_nppd_tf_crash.ipynb\" target=\"_parent\"><img src=\"https://colab.research.google.com/assets/colab-badge.svg\" alt=\"Open In Colab\"/></a>"
      ]
    },
    {
      "cell_type": "code",
      "metadata": {
        "id": "uJ5QWUkF0oZC"
      },
      "source": [
        "import numpy as np\n",
        "import pandas as dp"
      ],
      "execution_count": null,
      "outputs": []
    },
    {
      "cell_type": "code",
      "metadata": {
        "colab": {
          "base_uri": "https://localhost:8080/"
        },
        "id": "VfqplOTW1eHB",
        "outputId": "8de7fd9b-3a43-4cbf-e31a-3701ac740295"
      },
      "source": [
        "# Creating lists\n",
        "list_1 = [1, 2, 3]\n",
        "\n",
        "list_2 = [5, 6, 4]\n",
        "\n",
        "# Adding two lists\n",
        "list_1 + list_2\n"
      ],
      "execution_count": null,
      "outputs": [
        {
          "output_type": "execute_result",
          "data": {
            "text/plain": [
              "[1, 2, 3, 5, 6, 4]"
            ]
          },
          "metadata": {
            "tags": []
          },
          "execution_count": 2
        }
      ]
    },
    {
      "cell_type": "code",
      "metadata": {
        "colab": {
          "base_uri": "https://localhost:8080/"
        },
        "id": "OljTVGV42FwM",
        "outputId": "286bd640-b4d5-4288-952d-285e356d2bd1"
      },
      "source": [
        "# Creating arrays\n",
        "arr_1 = np.array([1, 2, 3])\n",
        "\n",
        "arr_2 = np.array([5, 6, 4])\n",
        "\n",
        "# Adding two arrays\n",
        "arr_1 + arr_2\n"
      ],
      "execution_count": null,
      "outputs": [
        {
          "output_type": "execute_result",
          "data": {
            "text/plain": [
              "array([6, 8, 7])"
            ]
          },
          "metadata": {
            "tags": []
          },
          "execution_count": 3
        }
      ]
    },
    {
      "cell_type": "code",
      "metadata": {
        "colab": {
          "base_uri": "https://localhost:8080/"
        },
        "id": "eubToNs-4KIG",
        "outputId": "16789af3-4b3f-4714-ca65-86bea2c35eb8"
      },
      "source": [
        "# Creating a one-dimensional array\n",
        "zarray = np.zeros(5)\n",
        "print (np.zeros(5))\n",
        "print (zarray)\n",
        "# Creating a two-dimensional array (note default is dtype float 0. & not 0)\n",
        "np.zeros((3, 5))"
      ],
      "execution_count": null,
      "outputs": [
        {
          "output_type": "stream",
          "text": [
            "[0. 0. 0. 0. 0.]\n",
            "[0. 0. 0. 0. 0.]\n"
          ],
          "name": "stdout"
        },
        {
          "output_type": "execute_result",
          "data": {
            "text/plain": [
              "array([[0., 0., 0., 0., 0.],\n",
              "       [0., 0., 0., 0., 0.],\n",
              "       [0., 0., 0., 0., 0.]])"
            ]
          },
          "metadata": {
            "tags": []
          },
          "execution_count": 9
        }
      ]
    },
    {
      "cell_type": "code",
      "metadata": {
        "colab": {
          "base_uri": "https://localhost:8080/"
        },
        "id": "ZkZ3Byg-4UHH",
        "outputId": "8a52aea8-6314-4a24-e6be-14c9a4cea985"
      },
      "source": [
        "# Creating a one-dimensional array of integer type\n",
        "array_int=np.zeros(5, dtype=int)\n",
        "print (array_int)\n",
        "# Creating a one-dimensional array of float type\n",
        "array_float=np.zeros(5, dtype=float)\n",
        "print(array_float)\n"
      ],
      "execution_count": null,
      "outputs": [
        {
          "output_type": "stream",
          "text": [
            "[0 0 0 0 0]\n",
            "[0. 0. 0. 0. 0.]\n"
          ],
          "name": "stdout"
        }
      ]
    },
    {
      "cell_type": "code",
      "metadata": {
        "colab": {
          "base_uri": "https://localhost:8080/"
        },
        "id": "Gjpl01MJ6Ui_",
        "outputId": "6844b789-b198-4e0d-eb9b-347f1f4212d9"
      },
      "source": [
        "# Creating a one-dimensional array of integer type\n",
        "np.ones(5, dtype=int)"
      ],
      "execution_count": null,
      "outputs": [
        {
          "output_type": "execute_result",
          "data": {
            "text/plain": [
              "array([1, 1, 1, 1, 1])"
            ]
          },
          "metadata": {
            "tags": []
          },
          "execution_count": 16
        }
      ]
    },
    {
      "cell_type": "code",
      "metadata": {
        "colab": {
          "base_uri": "https://localhost:8080/"
        },
        "id": "PE2asNV46zoH",
        "outputId": "a0a58469-7bf3-41de-d365-bb9a689a8474"
      },
      "source": [
        " #full(shape, fill_value, dtype=None) returns an array of a given shape and type, fill with fill_value given in input parameters.\n",
        "\n",
        "# Creating a one-dimensional array with value as 12\n",
        "np.full(5, 12)\n",
        "np.full((3,4), 1.0)\n",
        "\n"
      ],
      "execution_count": null,
      "outputs": [
        {
          "output_type": "execute_result",
          "data": {
            "text/plain": [
              "array([[1., 1., 1., 1.],\n",
              "       [1., 1., 1., 1.],\n",
              "       [1., 1., 1., 1.]])"
            ]
          },
          "metadata": {
            "tags": []
          },
          "execution_count": 22
        }
      ]
    },
    {
      "cell_type": "code",
      "metadata": {
        "colab": {
          "base_uri": "https://localhost:8080/"
        },
        "id": "f4fzdSOC9Gt3",
        "outputId": "66c066b6-5dbe-4c3f-c9be-ab58a478d4b8"
      },
      "source": [
        "# Creating a one-dimensional array with value as 12\n",
        "print (np.full(5, 12))\n",
        "# Creating a two-dimensional array with value as 9\n",
        "print (np.full((2, 3), 9))"
      ],
      "execution_count": null,
      "outputs": [
        {
          "output_type": "stream",
          "text": [
            "[12 12 12 12 12]\n",
            "[[9 9 9]\n",
            " [9 9 9]]\n"
          ],
          "name": "stdout"
        }
      ]
    },
    {
      "cell_type": "code",
      "metadata": {
        "id": "IfSEFTHT_EUx"
      },
      "source": [
        ""
      ],
      "execution_count": null,
      "outputs": []
    },
    {
      "cell_type": "code",
      "metadata": {
        "colab": {
          "base_uri": "https://localhost:8080/"
        },
        "id": "KO97j_Ev9lgl",
        "outputId": "ca28b8ae-cb90-408c-e894-425283eecfdd"
      },
      "source": [
        "# Creating an array with only stop argument\n",
        "print (np.arange(5))\n",
        "# Creating an array with start and stop arguments\n",
        "print(np.arange(3, 8))"
      ],
      "execution_count": null,
      "outputs": [
        {
          "output_type": "stream",
          "text": [
            "[0 1 2 3 4]\n",
            "[3 4 5 6 7]\n"
          ],
          "name": "stdout"
        }
      ]
    },
    {
      "cell_type": "code",
      "metadata": {
        "colab": {
          "base_uri": "https://localhost:8080/"
        },
        "id": "gJE29C5S-gXi",
        "outputId": "212fb7af-294a-40c4-98ca-a9d1853fd426"
      },
      "source": [
        "# Creating an array with given interval and step value as 0.5\n",
        "np.arange(3, 8, 0.5)"
      ],
      "execution_count": null,
      "outputs": [
        {
          "output_type": "execute_result",
          "data": {
            "text/plain": [
              "array([3. , 3.5, 4. , 4.5, 5. , 5.5, 6. , 6.5, 7. , 7.5])"
            ]
          },
          "metadata": {
            "tags": []
          },
          "execution_count": 27
        }
      ]
    },
    {
      "cell_type": "code",
      "metadata": {
        "colab": {
          "base_uri": "https://localhost:8080/"
        },
        "id": "v0RurV82_IUe",
        "outputId": "43b12d7d-5b5b-4259-ecea-b59cea783ad1"
      },
      "source": [
        "# linspace(start, stop, num=50, endpoint=True)\n",
        "# Creating an evenly spaced array with five numbers within interval 2 to 3\n",
        "np.linspace(2.0, 3.0, num=5)"
      ],
      "execution_count": null,
      "outputs": [
        {
          "output_type": "execute_result",
          "data": {
            "text/plain": [
              "array([2.  , 2.25, 2.5 , 2.75, 3.  ])"
            ]
          },
          "metadata": {
            "tags": []
          },
          "execution_count": 28
        }
      ]
    },
    {
      "cell_type": "code",
      "metadata": {
        "colab": {
          "base_uri": "https://localhost:8080/"
        },
        "id": "6inQ5uJ7AC7J",
        "outputId": "06da5cd6-3490-4daf-c116-64086f6fe76f"
      },
      "source": [
        "# Creating an array excluding end value\n",
        "np.linspace(2.0, 3.0, num=5, endpoint=False)"
      ],
      "execution_count": null,
      "outputs": [
        {
          "output_type": "execute_result",
          "data": {
            "text/plain": [
              "array([2. , 2.2, 2.4, 2.6, 2.8])"
            ]
          },
          "metadata": {
            "tags": []
          },
          "execution_count": 29
        }
      ]
    },
    {
      "cell_type": "code",
      "metadata": {
        "colab": {
          "base_uri": "https://localhost:8080/"
        },
        "id": "_2Fe-QGFAois",
        "outputId": "a7c82aa5-3c63-4ec6-895d-e2c8309f3cac"
      },
      "source": [
        "# Creating an array with ten values within the specified interval\n",
        "np.linspace(11, 20, num=10)\n"
      ],
      "execution_count": null,
      "outputs": [
        {
          "output_type": "execute_result",
          "data": {
            "text/plain": [
              "array([11., 12., 13., 14., 15., 16., 17., 18., 19., 20.])"
            ]
          },
          "metadata": {
            "tags": []
          },
          "execution_count": 30
        }
      ]
    },
    {
      "cell_type": "code",
      "metadata": {
        "colab": {
          "base_uri": "https://localhost:8080/"
        },
        "id": "Mid5lbTPA1y_",
        "outputId": "5716b895-c164-4eb4-8060-85d4e04b91f5"
      },
      "source": [
        "# rand([d0, d1, ..., dn]) is used to create an array of a given shape \n",
        "# and populate it with random samples from a uniform distribution over [0, 1). \n",
        "# It takes only positive arguments. If no argument is provided, a single float value is returned.\n",
        "# Generating single random number\n",
        "np.random.rand()\n",
        "                                                                                                                                             "
      ],
      "execution_count": null,
      "outputs": [
        {
          "output_type": "execute_result",
          "data": {
            "text/plain": [
              "array([0.64132635, 0.54954652, 0.43500752, 0.8382374 ])"
            ]
          },
          "metadata": {
            "tags": []
          },
          "execution_count": 32
        }
      ]
    },
    {
      "cell_type": "code",
      "metadata": {
        "colab": {
          "base_uri": "https://localhost:8080/"
        },
        "id": "JdCltGgdCa3f",
        "outputId": "9a13a70f-fffd-4822-b330-a250273b465e"
      },
      "source": [
        "# Generating a one-dimensional array with four random values\n",
        "np.random.rand(4)\n"
      ],
      "execution_count": null,
      "outputs": [
        {
          "output_type": "execute_result",
          "data": {
            "text/plain": [
              "array([0.4623245 , 0.34476778, 0.48485773, 0.2449246 ])"
            ]
          },
          "metadata": {
            "tags": []
          },
          "execution_count": 33
        }
      ]
    },
    {
      "cell_type": "code",
      "metadata": {
        "colab": {
          "base_uri": "https://localhost:8080/"
        },
        "id": "2Uk8yCcsCkbD",
        "outputId": "32b03afa-5022-4b18-84cd-5f6840175465"
      },
      "source": [
        "# Generating a two-dimensional array\n",
        "np.random.rand(2, 3)"
      ],
      "execution_count": null,
      "outputs": [
        {
          "output_type": "execute_result",
          "data": {
            "text/plain": [
              "array([[0.35248655, 0.7673033 , 0.1563021 ],\n",
              "       [0.20753569, 0.98208059, 0.30346319]])"
            ]
          },
          "metadata": {
            "tags": []
          },
          "execution_count": 34
        }
      ]
    }
  ]
}